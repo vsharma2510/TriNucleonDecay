{
 "cells": [
  {
   "cell_type": "code",
   "execution_count": 3,
   "id": "a3d4bea8-78bb-4cec-b091-9db18c7f269b",
   "metadata": {},
   "outputs": [],
   "source": [
    "import pandas as pd\n",
    "import json as js\n",
    "import seaborn as sns"
   ]
  },
  {
   "cell_type": "code",
   "execution_count": 7,
   "id": "6bd6deab-6e88-4129-9895-63acba423979",
   "metadata": {},
   "outputs": [],
   "source": [
    "df = pd.read_json(\"/global/projecta/projectdirs/cuore/scratch/vsharma/Tri_proton_decay/High_multiplicity_events_study/GroupedEventsAndTimesM10Count10.json\")"
   ]
  },
  {
   "cell_type": "code",
   "execution_count": 10,
   "id": "e9111af4-9460-4fb0-b714-cbc15db20cc2",
   "metadata": {},
   "outputs": [
    {
     "data": {
      "text/html": [
       "<div>\n",
       "<style scoped>\n",
       "    .dataframe tbody tr th:only-of-type {\n",
       "        vertical-align: middle;\n",
       "    }\n",
       "\n",
       "    .dataframe tbody tr th {\n",
       "        vertical-align: top;\n",
       "    }\n",
       "\n",
       "    .dataframe thead th {\n",
       "        text-align: right;\n",
       "    }\n",
       "</style>\n",
       "<table border=\"1\" class=\"dataframe\">\n",
       "  <thead>\n",
       "    <tr style=\"text-align: right;\">\n",
       "      <th></th>\n",
       "      <th>CrystalNumbers</th>\n",
       "      <th>Energies</th>\n",
       "      <th>TimeDeltas</th>\n",
       "      <th>Time</th>\n",
       "      <th>Multiplicity</th>\n",
       "      <th>RunNumber</th>\n",
       "      <th>RunNumberStartDatetime</th>\n",
       "      <th>GroupedEventDatetime</th>\n",
       "    </tr>\n",
       "  </thead>\n",
       "  <tbody>\n",
       "    <tr>\n",
       "      <th>0</th>\n",
       "      <td>[764, 408, 415, 654, 641, 883, 668, 744, 386, ...</td>\n",
       "      <td>[7.371882356001094, 28.53449129290281, 8948.08...</td>\n",
       "      <td>[0.0, 0.012912718493680002, 0.0208472493304720...</td>\n",
       "      <td>9104.862826</td>\n",
       "      <td>111</td>\n",
       "      <td>350359</td>\n",
       "      <td>2017-05-11 20:48:02+00:50</td>\n",
       "      <td>2017-05-11 23:19:46.862826+00:50</td>\n",
       "    </tr>\n",
       "    <tr>\n",
       "      <th>1</th>\n",
       "      <td>[748, 646, 628, 29, 740, 731, 240, 183, 170, 7...</td>\n",
       "      <td>[4.310218389085093, 7052.611986918407, 30.4098...</td>\n",
       "      <td>[0.0, 0.005811730392451001, 0.0087705717960480...</td>\n",
       "      <td>22306.362840</td>\n",
       "      <td>28</td>\n",
       "      <td>350359</td>\n",
       "      <td>2017-05-11 20:48:02+00:50</td>\n",
       "      <td>2017-05-12 02:59:48.362840+00:50</td>\n",
       "    </tr>\n",
       "    <tr>\n",
       "      <th>2</th>\n",
       "      <td>[529, 432, 396, 574, 395, 652, 419, 613, 558, ...</td>\n",
       "      <td>[30266.529932508784, 1221.6197906360687, 1309....</td>\n",
       "      <td>[0.0, 0.008751340177695001, 0.0110118440752550...</td>\n",
       "      <td>25187.294775</td>\n",
       "      <td>64</td>\n",
       "      <td>350359</td>\n",
       "      <td>2017-05-11 20:48:02+00:50</td>\n",
       "      <td>2017-05-12 03:47:49.294775+00:50</td>\n",
       "    </tr>\n",
       "    <tr>\n",
       "      <th>3</th>\n",
       "      <td>[714, 936, 934, 935, 552, 360, 564, 701, 487, ...</td>\n",
       "      <td>[2662.0010322214807, 6140.000489571613, 3018.8...</td>\n",
       "      <td>[0.0, 0.017708871164359, 0.018863438137486, 0....</td>\n",
       "      <td>27444.104126</td>\n",
       "      <td>20</td>\n",
       "      <td>350359</td>\n",
       "      <td>2017-05-11 20:48:02+00:50</td>\n",
       "      <td>2017-05-12 04:25:26.104126+00:50</td>\n",
       "    </tr>\n",
       "    <tr>\n",
       "      <th>4</th>\n",
       "      <td>[272, 324, 400, 336, 246, 363, 390, 569, 323, ...</td>\n",
       "      <td>[126.26311576312327, 105.38998593476863, 10.60...</td>\n",
       "      <td>[0.0, 0.010855960550543001, 0.0141822920268160...</td>\n",
       "      <td>30073.614809</td>\n",
       "      <td>87</td>\n",
       "      <td>350359</td>\n",
       "      <td>2017-05-11 20:48:02+00:50</td>\n",
       "      <td>2017-05-12 05:09:15.614809+00:50</td>\n",
       "    </tr>\n",
       "  </tbody>\n",
       "</table>\n",
       "</div>"
      ],
      "text/plain": [
       "                                      CrystalNumbers  \\\n",
       "0  [764, 408, 415, 654, 641, 883, 668, 744, 386, ...   \n",
       "1  [748, 646, 628, 29, 740, 731, 240, 183, 170, 7...   \n",
       "2  [529, 432, 396, 574, 395, 652, 419, 613, 558, ...   \n",
       "3  [714, 936, 934, 935, 552, 360, 564, 701, 487, ...   \n",
       "4  [272, 324, 400, 336, 246, 363, 390, 569, 323, ...   \n",
       "\n",
       "                                            Energies  \\\n",
       "0  [7.371882356001094, 28.53449129290281, 8948.08...   \n",
       "1  [4.310218389085093, 7052.611986918407, 30.4098...   \n",
       "2  [30266.529932508784, 1221.6197906360687, 1309....   \n",
       "3  [2662.0010322214807, 6140.000489571613, 3018.8...   \n",
       "4  [126.26311576312327, 105.38998593476863, 10.60...   \n",
       "\n",
       "                                          TimeDeltas          Time  \\\n",
       "0  [0.0, 0.012912718493680002, 0.0208472493304720...   9104.862826   \n",
       "1  [0.0, 0.005811730392451001, 0.0087705717960480...  22306.362840   \n",
       "2  [0.0, 0.008751340177695001, 0.0110118440752550...  25187.294775   \n",
       "3  [0.0, 0.017708871164359, 0.018863438137486, 0....  27444.104126   \n",
       "4  [0.0, 0.010855960550543001, 0.0141822920268160...  30073.614809   \n",
       "\n",
       "   Multiplicity  RunNumber     RunNumberStartDatetime  \\\n",
       "0           111     350359  2017-05-11 20:48:02+00:50   \n",
       "1            28     350359  2017-05-11 20:48:02+00:50   \n",
       "2            64     350359  2017-05-11 20:48:02+00:50   \n",
       "3            20     350359  2017-05-11 20:48:02+00:50   \n",
       "4            87     350359  2017-05-11 20:48:02+00:50   \n",
       "\n",
       "               GroupedEventDatetime  \n",
       "0  2017-05-11 23:19:46.862826+00:50  \n",
       "1  2017-05-12 02:59:48.362840+00:50  \n",
       "2  2017-05-12 03:47:49.294775+00:50  \n",
       "3  2017-05-12 04:25:26.104126+00:50  \n",
       "4  2017-05-12 05:09:15.614809+00:50  "
      ]
     },
     "execution_count": 10,
     "metadata": {},
     "output_type": "execute_result"
    }
   ],
   "source": [
    "df.head()"
   ]
  },
  {
   "cell_type": "code",
   "execution_count": 12,
   "id": "e9f5e251-c0f0-4e35-b572-6020ab038004",
   "metadata": {},
   "outputs": [],
   "source": [
    "df = pd.DataFrame(columns = ['channel', 'energy'])"
   ]
  },
  {
   "cell_type": "code",
   "execution_count": 13,
   "id": "4c6a8d6a-7324-46d5-ba37-5dbc5001b17a",
   "metadata": {},
   "outputs": [],
   "source": [
    "energyList = [0,1,2,3,4,5]"
   ]
  },
  {
   "cell_type": "code",
   "execution_count": 14,
   "id": "3c354c0b-f3f4-4952-8e18-edcbf144b7d0",
   "metadata": {},
   "outputs": [],
   "source": [
    "channelList = [5,6,7,8,9,5]"
   ]
  },
  {
   "cell_type": "code",
   "execution_count": 16,
   "id": "0d20f86f-ba5d-4974-8750-60a467fd4140",
   "metadata": {},
   "outputs": [],
   "source": [
    "df['channel'] = channelList\n",
    "df['energy'] = energyList"
   ]
  },
  {
   "cell_type": "code",
   "execution_count": 18,
   "id": "d1dae0a5-1a63-45f7-a778-d4c43b25fd40",
   "metadata": {},
   "outputs": [
    {
     "data": {
      "text/html": [
       "<div>\n",
       "<style scoped>\n",
       "    .dataframe tbody tr th:only-of-type {\n",
       "        vertical-align: middle;\n",
       "    }\n",
       "\n",
       "    .dataframe tbody tr th {\n",
       "        vertical-align: top;\n",
       "    }\n",
       "\n",
       "    .dataframe thead th {\n",
       "        text-align: right;\n",
       "    }\n",
       "</style>\n",
       "<table border=\"1\" class=\"dataframe\">\n",
       "  <thead>\n",
       "    <tr style=\"text-align: right;\">\n",
       "      <th></th>\n",
       "      <th>channel</th>\n",
       "      <th>energy</th>\n",
       "    </tr>\n",
       "  </thead>\n",
       "  <tbody>\n",
       "    <tr>\n",
       "      <th>0</th>\n",
       "      <td>5</td>\n",
       "      <td>0</td>\n",
       "    </tr>\n",
       "    <tr>\n",
       "      <th>1</th>\n",
       "      <td>6</td>\n",
       "      <td>1</td>\n",
       "    </tr>\n",
       "    <tr>\n",
       "      <th>2</th>\n",
       "      <td>7</td>\n",
       "      <td>2</td>\n",
       "    </tr>\n",
       "    <tr>\n",
       "      <th>3</th>\n",
       "      <td>8</td>\n",
       "      <td>3</td>\n",
       "    </tr>\n",
       "    <tr>\n",
       "      <th>4</th>\n",
       "      <td>9</td>\n",
       "      <td>4</td>\n",
       "    </tr>\n",
       "    <tr>\n",
       "      <th>5</th>\n",
       "      <td>5</td>\n",
       "      <td>5</td>\n",
       "    </tr>\n",
       "  </tbody>\n",
       "</table>\n",
       "</div>"
      ],
      "text/plain": [
       "   channel  energy\n",
       "0        5       0\n",
       "1        6       1\n",
       "2        7       2\n",
       "3        8       3\n",
       "4        9       4\n",
       "5        5       5"
      ]
     },
     "execution_count": 18,
     "metadata": {},
     "output_type": "execute_result"
    }
   ],
   "source": [
    "df.head(n=10)"
   ]
  },
  {
   "cell_type": "code",
   "execution_count": 19,
   "id": "9e401c6c-94e0-4209-bae8-118820d4ee39",
   "metadata": {},
   "outputs": [],
   "source": [
    "df1 = pd.DataFrame(columns = ['channel', 'energy'])"
   ]
  },
  {
   "cell_type": "code",
   "execution_count": 20,
   "id": "10b813bf-6a28-41e2-bf96-f9a8831caa73",
   "metadata": {},
   "outputs": [],
   "source": [
    "df1['channel'] = channelList\n",
    "df1['energy'] = energyList"
   ]
  },
  {
   "cell_type": "code",
   "execution_count": 21,
   "id": "763c883c-b83b-4592-83d0-75ab3ed7c0bb",
   "metadata": {},
   "outputs": [
    {
     "data": {
      "text/html": [
       "<div>\n",
       "<style scoped>\n",
       "    .dataframe tbody tr th:only-of-type {\n",
       "        vertical-align: middle;\n",
       "    }\n",
       "\n",
       "    .dataframe tbody tr th {\n",
       "        vertical-align: top;\n",
       "    }\n",
       "\n",
       "    .dataframe thead th {\n",
       "        text-align: right;\n",
       "    }\n",
       "</style>\n",
       "<table border=\"1\" class=\"dataframe\">\n",
       "  <thead>\n",
       "    <tr style=\"text-align: right;\">\n",
       "      <th></th>\n",
       "      <th>channel</th>\n",
       "      <th>energy</th>\n",
       "    </tr>\n",
       "  </thead>\n",
       "  <tbody>\n",
       "    <tr>\n",
       "      <th>0</th>\n",
       "      <td>5</td>\n",
       "      <td>0</td>\n",
       "    </tr>\n",
       "    <tr>\n",
       "      <th>1</th>\n",
       "      <td>6</td>\n",
       "      <td>1</td>\n",
       "    </tr>\n",
       "    <tr>\n",
       "      <th>2</th>\n",
       "      <td>7</td>\n",
       "      <td>2</td>\n",
       "    </tr>\n",
       "    <tr>\n",
       "      <th>3</th>\n",
       "      <td>8</td>\n",
       "      <td>3</td>\n",
       "    </tr>\n",
       "    <tr>\n",
       "      <th>4</th>\n",
       "      <td>9</td>\n",
       "      <td>4</td>\n",
       "    </tr>\n",
       "    <tr>\n",
       "      <th>5</th>\n",
       "      <td>5</td>\n",
       "      <td>5</td>\n",
       "    </tr>\n",
       "    <tr>\n",
       "      <th>0</th>\n",
       "      <td>5</td>\n",
       "      <td>0</td>\n",
       "    </tr>\n",
       "    <tr>\n",
       "      <th>1</th>\n",
       "      <td>6</td>\n",
       "      <td>1</td>\n",
       "    </tr>\n",
       "    <tr>\n",
       "      <th>2</th>\n",
       "      <td>7</td>\n",
       "      <td>2</td>\n",
       "    </tr>\n",
       "    <tr>\n",
       "      <th>3</th>\n",
       "      <td>8</td>\n",
       "      <td>3</td>\n",
       "    </tr>\n",
       "    <tr>\n",
       "      <th>4</th>\n",
       "      <td>9</td>\n",
       "      <td>4</td>\n",
       "    </tr>\n",
       "    <tr>\n",
       "      <th>5</th>\n",
       "      <td>5</td>\n",
       "      <td>5</td>\n",
       "    </tr>\n",
       "  </tbody>\n",
       "</table>\n",
       "</div>"
      ],
      "text/plain": [
       "   channel  energy\n",
       "0        5       0\n",
       "1        6       1\n",
       "2        7       2\n",
       "3        8       3\n",
       "4        9       4\n",
       "5        5       5\n",
       "0        5       0\n",
       "1        6       1\n",
       "2        7       2\n",
       "3        8       3\n",
       "4        9       4\n",
       "5        5       5"
      ]
     },
     "execution_count": 21,
     "metadata": {},
     "output_type": "execute_result"
    }
   ],
   "source": [
    "pd.concat([df1, df])"
   ]
  },
  {
   "cell_type": "code",
   "execution_count": 47,
   "id": "22dd414c-a220-4587-b167-0181df0736f5",
   "metadata": {},
   "outputs": [],
   "source": [
    "df2 = pd.DataFrame(columns = ['channel', 'energy'])\n",
    "for i in range(5):\n",
    "    df0 = pd.DataFrame(columns = ['channel', 'energy'])\n",
    "    df0['channel'] = channelList\n",
    "    df0['energy'] = energyList\n",
    "    df2 = pd.concat([df2,df0], ignore_index = True)"
   ]
  },
  {
   "cell_type": "code",
   "execution_count": 38,
   "id": "addd9270-13ce-4935-99f7-55822757340c",
   "metadata": {},
   "outputs": [],
   "source": [
    "df2 = pd.DataFrame(columns = ['channel', 'energy'])"
   ]
  },
  {
   "cell_type": "code",
   "execution_count": 39,
   "id": "c2ad526a-5681-4a20-bb45-7054bc87e644",
   "metadata": {},
   "outputs": [
    {
     "data": {
      "text/html": [
       "<div>\n",
       "<style scoped>\n",
       "    .dataframe tbody tr th:only-of-type {\n",
       "        vertical-align: middle;\n",
       "    }\n",
       "\n",
       "    .dataframe tbody tr th {\n",
       "        vertical-align: top;\n",
       "    }\n",
       "\n",
       "    .dataframe thead th {\n",
       "        text-align: right;\n",
       "    }\n",
       "</style>\n",
       "<table border=\"1\" class=\"dataframe\">\n",
       "  <thead>\n",
       "    <tr style=\"text-align: right;\">\n",
       "      <th></th>\n",
       "      <th>channel</th>\n",
       "      <th>energy</th>\n",
       "    </tr>\n",
       "  </thead>\n",
       "  <tbody>\n",
       "  </tbody>\n",
       "</table>\n",
       "</div>"
      ],
      "text/plain": [
       "Empty DataFrame\n",
       "Columns: [channel, energy]\n",
       "Index: []"
      ]
     },
     "execution_count": 39,
     "metadata": {},
     "output_type": "execute_result"
    }
   ],
   "source": [
    "df2.head()"
   ]
  },
  {
   "cell_type": "code",
   "execution_count": 48,
   "id": "00fdfcdd-1795-46eb-8914-d3024c21c8ba",
   "metadata": {},
   "outputs": [
    {
     "data": {
      "text/plain": [
       "30"
      ]
     },
     "execution_count": 48,
     "metadata": {},
     "output_type": "execute_result"
    }
   ],
   "source": [
    "df2.shape[0]"
   ]
  },
  {
   "cell_type": "code",
   "execution_count": null,
   "id": "8c6f3543-9b7f-4fbb-92fd-d44279746b02",
   "metadata": {},
   "outputs": [],
   "source": []
  }
 ],
 "metadata": {
  "kernelspec": {
   "display_name": "NERSC Python",
   "language": "python",
   "name": "python3"
  },
  "language_info": {
   "codemirror_mode": {
    "name": "ipython",
    "version": 3
   },
   "file_extension": ".py",
   "mimetype": "text/x-python",
   "name": "python",
   "nbconvert_exporter": "python",
   "pygments_lexer": "ipython3",
   "version": "3.9.7"
  }
 },
 "nbformat": 4,
 "nbformat_minor": 5
}
