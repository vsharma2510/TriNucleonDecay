{
 "cells": [
  {
   "cell_type": "code",
   "execution_count": 1,
   "id": "967ae318-ce0c-4731-800f-c7ffbe286db3",
   "metadata": {
    "tags": []
   },
   "outputs": [],
   "source": [
    "%matplotlib inline\n",
    "import uproot\n",
    "import hist\n",
    "import numpy as np\n",
    "import matplotlib.pyplot as plt\n",
    "import pandas as pd\n",
    "import awkward as ak\n",
    "import glob\n",
    "import AnalyzeCUORESim as an\n",
    "from IPython.display import display"
   ]
  },
  {
   "cell_type": "code",
   "execution_count": 2,
   "id": "a69f9321-b995-4bea-a310-c79bb179e48d",
   "metadata": {
    "tags": []
   },
   "outputs": [],
   "source": [
    "pppSim = an.AresOutput('/global/homes/v/vsharma2/TriProtonDecay/Simulation/Output/pppDecaySimsAres/ppp_sim_ares_*.root', 50, 12.0)"
   ]
  },
  {
   "cell_type": "code",
   "execution_count": 3,
   "id": "13be0f64-e5ca-4ba2-96f1-d4f065822ab4",
   "metadata": {
    "tags": []
   },
   "outputs": [
    {
     "name": "stdout",
     "output_type": "stream",
     "text": [
      "Number of files added --- 100\n"
     ]
    }
   ],
   "source": [
    "pppSimNp = pppSim.ConvertAresToNP()"
   ]
  },
  {
   "cell_type": "code",
   "execution_count": 4,
   "id": "210c7294-97f9-4200-a381-9dab880a47fa",
   "metadata": {
    "tags": []
   },
   "outputs": [
    {
     "data": {
      "text/plain": [
       "(5000, 10, 10, 13)"
      ]
     },
     "execution_count": 4,
     "metadata": {},
     "output_type": "execute_result"
    }
   ],
   "source": [
    "pppSimNp.shape"
   ]
  },
  {
   "cell_type": "code",
   "execution_count": 5,
   "id": "d26c75ea-3190-41d3-b77f-2668985724fd",
   "metadata": {
    "tags": []
   },
   "outputs": [],
   "source": [
    "muonSim = an.AresOutput('/global/homes/v/vsharma2/TriProtonDecay/Simulation/Output/MuonSimsAres/MuonSimsAres.root', 8942, 12.0)"
   ]
  },
  {
   "cell_type": "code",
   "execution_count": 6,
   "id": "938801a1-5ed0-440e-a4bc-bcd2159534b7",
   "metadata": {
    "tags": []
   },
   "outputs": [
    {
     "name": "stdout",
     "output_type": "stream",
     "text": [
      "Number of files added --- 1\n"
     ]
    }
   ],
   "source": [
    "muonSimNp = muonSim.ConvertAresToNP()"
   ]
  },
  {
   "cell_type": "code",
   "execution_count": 7,
   "id": "ac2cc390-0a5d-4c6b-b264-abfbc8284696",
   "metadata": {
    "tags": []
   },
   "outputs": [
    {
     "data": {
      "text/plain": [
       "(8942, 10, 10, 13)"
      ]
     },
     "execution_count": 7,
     "metadata": {},
     "output_type": "execute_result"
    }
   ],
   "source": [
    "muonSimNp.shape"
   ]
  },
  {
   "cell_type": "code",
   "execution_count": 8,
   "id": "ee68d527-5e22-46e2-9349-549e438d5079",
   "metadata": {
    "tags": []
   },
   "outputs": [],
   "source": [
    "muonSimNpCut = muonSimNp[0:5000, :, :, :]"
   ]
  },
  {
   "cell_type": "code",
   "execution_count": 9,
   "id": "240898a2-e04a-4be6-b75f-3625aa35b6d1",
   "metadata": {
    "tags": []
   },
   "outputs": [
    {
     "data": {
      "text/plain": [
       "(5000, 10, 10, 13)"
      ]
     },
     "execution_count": 9,
     "metadata": {},
     "output_type": "execute_result"
    }
   ],
   "source": [
    "muonSimNpCut.shape"
   ]
  },
  {
   "cell_type": "code",
   "execution_count": 10,
   "id": "2073e5a6-9a0f-4637-a103-c56bbb850ed9",
   "metadata": {
    "tags": []
   },
   "outputs": [],
   "source": [
    "examples, labels = pppSim.CombineClasses(pppSimNp, muonSimNpCut)"
   ]
  },
  {
   "cell_type": "code",
   "execution_count": 11,
   "id": "14e9645d-680c-4266-9ae9-61372e7b0dbd",
   "metadata": {
    "tags": []
   },
   "outputs": [
    {
     "data": {
      "text/plain": [
       "(10000, 10, 10, 13)"
      ]
     },
     "execution_count": 11,
     "metadata": {},
     "output_type": "execute_result"
    }
   ],
   "source": [
    "examples.shape"
   ]
  },
  {
   "cell_type": "code",
   "execution_count": 12,
   "id": "8cdea2fa-8343-4647-b12e-5d6f4c9118d0",
   "metadata": {
    "tags": []
   },
   "outputs": [
    {
     "data": {
      "text/plain": [
       "(10000,)"
      ]
     },
     "execution_count": 12,
     "metadata": {},
     "output_type": "execute_result"
    }
   ],
   "source": [
    "labels.shape"
   ]
  },
  {
   "cell_type": "code",
   "execution_count": 13,
   "id": "510493f1-5013-461f-8013-639a4b830a89",
   "metadata": {
    "tags": []
   },
   "outputs": [],
   "source": [
    "examples_file_name = '/global/homes/v/vsharma2/TriProtonDecay/Simulation/Model/Input/TrainingExamples.npy'\n",
    "labels_file_name = '/global/homes/v/vsharma2/TriProtonDecay/Simulation/Model/Input/Labels.npy'\n",
    "np.save(examples_file_name, examples)\n",
    "np.save(labels_file_name, labels)"
   ]
  },
  {
   "cell_type": "code",
   "execution_count": 5,
   "id": "a83f40d5-224e-479d-92d5-5f530e88e219",
   "metadata": {},
   "outputs": [],
   "source": [
    "ePosSim = an.QShieldsOutput('/global/homes/v/vsharma2/TriProtonDecay/Simulation/Output/test_ePos_sim_2700MeV_21.root', 80)"
   ]
  },
  {
   "cell_type": "code",
   "execution_count": 7,
   "id": "dac3081a-433e-4065-8a9d-1996af608110",
   "metadata": {
    "tags": []
   },
   "outputs": [],
   "source": [
    "df = ePosSim.AddFiles()"
   ]
  },
  {
   "cell_type": "code",
   "execution_count": 8,
   "id": "208d8b95-01ae-4965-b728-def547da5b86",
   "metadata": {
    "tags": []
   },
   "outputs": [
    {
     "data": {
      "text/html": [
       "<div>\n",
       "<style scoped>\n",
       "    .dataframe tbody tr th:only-of-type {\n",
       "        vertical-align: middle;\n",
       "    }\n",
       "\n",
       "    .dataframe tbody tr th {\n",
       "        vertical-align: top;\n",
       "    }\n",
       "\n",
       "    .dataframe thead th {\n",
       "        text-align: right;\n",
       "    }\n",
       "</style>\n",
       "<table border=\"1\" class=\"dataframe\">\n",
       "  <thead>\n",
       "    <tr style=\"text-align: right;\">\n",
       "      <th></th>\n",
       "      <th>Channel</th>\n",
       "      <th>DAQChannel</th>\n",
       "      <th>ChainNumber</th>\n",
       "      <th>UniversalChainNumber</th>\n",
       "      <th>DepositedEnergy</th>\n",
       "      <th>EnergyDepositedInCopper</th>\n",
       "      <th>ParticleName</th>\n",
       "      <th>DaughterName</th>\n",
       "      <th>ParticlePositionX</th>\n",
       "      <th>ParticlePositionY</th>\n",
       "      <th>ParticlePositionZ</th>\n",
       "      <th>ParticleDirectionX</th>\n",
       "      <th>ParticleDirectionY</th>\n",
       "      <th>ParticleDirectionZ</th>\n",
       "      <th>ParticleInputEnergy</th>\n",
       "    </tr>\n",
       "  </thead>\n",
       "  <tbody>\n",
       "    <tr>\n",
       "      <th>0</th>\n",
       "      <td>0</td>\n",
       "      <td>222</td>\n",
       "      <td>1</td>\n",
       "      <td>1</td>\n",
       "      <td>0.128716</td>\n",
       "      <td>125.3961</td>\n",
       "      <td>e+</td>\n",
       "      <td>Te130</td>\n",
       "      <td>122.970492</td>\n",
       "      <td>162.43339</td>\n",
       "      <td>1215.138258</td>\n",
       "      <td>-0.634229</td>\n",
       "      <td>-0.754864</td>\n",
       "      <td>0.167135</td>\n",
       "      <td>2085.843122</td>\n",
       "    </tr>\n",
       "    <tr>\n",
       "      <th>1</th>\n",
       "      <td>1</td>\n",
       "      <td>235</td>\n",
       "      <td>1</td>\n",
       "      <td>1</td>\n",
       "      <td>0.558245</td>\n",
       "      <td>125.3961</td>\n",
       "      <td>e+</td>\n",
       "      <td>Te130</td>\n",
       "      <td>122.970492</td>\n",
       "      <td>162.43339</td>\n",
       "      <td>1215.138258</td>\n",
       "      <td>-0.634229</td>\n",
       "      <td>-0.754864</td>\n",
       "      <td>0.167135</td>\n",
       "      <td>2085.843122</td>\n",
       "    </tr>\n",
       "    <tr>\n",
       "      <th>2</th>\n",
       "      <td>2</td>\n",
       "      <td>209</td>\n",
       "      <td>1</td>\n",
       "      <td>1</td>\n",
       "      <td>0.270605</td>\n",
       "      <td>125.3961</td>\n",
       "      <td>e+</td>\n",
       "      <td>Te130</td>\n",
       "      <td>122.970492</td>\n",
       "      <td>162.43339</td>\n",
       "      <td>1215.138258</td>\n",
       "      <td>-0.634229</td>\n",
       "      <td>-0.754864</td>\n",
       "      <td>0.167135</td>\n",
       "      <td>2085.843122</td>\n",
       "    </tr>\n",
       "    <tr>\n",
       "      <th>3</th>\n",
       "      <td>4</td>\n",
       "      <td>223</td>\n",
       "      <td>1</td>\n",
       "      <td>1</td>\n",
       "      <td>2.280079</td>\n",
       "      <td>125.3961</td>\n",
       "      <td>e+</td>\n",
       "      <td>Te130</td>\n",
       "      <td>122.970492</td>\n",
       "      <td>162.43339</td>\n",
       "      <td>1215.138258</td>\n",
       "      <td>-0.634229</td>\n",
       "      <td>-0.754864</td>\n",
       "      <td>0.167135</td>\n",
       "      <td>2085.843122</td>\n",
       "    </tr>\n",
       "    <tr>\n",
       "      <th>4</th>\n",
       "      <td>5</td>\n",
       "      <td>236</td>\n",
       "      <td>1</td>\n",
       "      <td>1</td>\n",
       "      <td>3.482573</td>\n",
       "      <td>125.3961</td>\n",
       "      <td>e+</td>\n",
       "      <td>Te130</td>\n",
       "      <td>122.970492</td>\n",
       "      <td>162.43339</td>\n",
       "      <td>1215.138258</td>\n",
       "      <td>-0.634229</td>\n",
       "      <td>-0.754864</td>\n",
       "      <td>0.167135</td>\n",
       "      <td>2085.843122</td>\n",
       "    </tr>\n",
       "  </tbody>\n",
       "</table>\n",
       "</div>"
      ],
      "text/plain": [
       "   Channel  DAQChannel  ChainNumber  UniversalChainNumber  DepositedEnergy  \\\n",
       "0        0         222            1                     1         0.128716   \n",
       "1        1         235            1                     1         0.558245   \n",
       "2        2         209            1                     1         0.270605   \n",
       "3        4         223            1                     1         2.280079   \n",
       "4        5         236            1                     1         3.482573   \n",
       "\n",
       "   EnergyDepositedInCopper ParticleName DaughterName  ParticlePositionX  \\\n",
       "0                 125.3961           e+        Te130         122.970492   \n",
       "1                 125.3961           e+        Te130         122.970492   \n",
       "2                 125.3961           e+        Te130         122.970492   \n",
       "3                 125.3961           e+        Te130         122.970492   \n",
       "4                 125.3961           e+        Te130         122.970492   \n",
       "\n",
       "   ParticlePositionY  ParticlePositionZ  ParticleDirectionX  \\\n",
       "0          162.43339        1215.138258           -0.634229   \n",
       "1          162.43339        1215.138258           -0.634229   \n",
       "2          162.43339        1215.138258           -0.634229   \n",
       "3          162.43339        1215.138258           -0.634229   \n",
       "4          162.43339        1215.138258           -0.634229   \n",
       "\n",
       "   ParticleDirectionY  ParticleDirectionZ  ParticleInputEnergy  \n",
       "0           -0.754864            0.167135          2085.843122  \n",
       "1           -0.754864            0.167135          2085.843122  \n",
       "2           -0.754864            0.167135          2085.843122  \n",
       "3           -0.754864            0.167135          2085.843122  \n",
       "4           -0.754864            0.167135          2085.843122  "
      ]
     },
     "execution_count": 8,
     "metadata": {},
     "output_type": "execute_result"
    }
   ],
   "source": [
    "df.head()"
   ]
  },
  {
   "cell_type": "code",
   "execution_count": 15,
   "id": "32f28708-1bed-4c6e-a202-048148e86e96",
   "metadata": {
    "tags": []
   },
   "outputs": [
    {
     "data": {
      "text/plain": [
       "1879.0020115665802"
      ]
     },
     "execution_count": 15,
     "metadata": {},
     "output_type": "execute_result"
    }
   ],
   "source": [
    "df.query('ChainNumber==1', engine='python')['DepositedEnergy'].sum()"
   ]
  },
  {
   "cell_type": "code",
   "execution_count": 19,
   "id": "f7f34d0d-8b7d-4475-bdeb-5caf2c7373c1",
   "metadata": {
    "tags": []
   },
   "outputs": [],
   "source": [
    "muonSim = an.QShieldsOutput('/global/homes/v/vsharma2/TriProtonDecay/Simulation/Output/Muons/Muons000.root', 8942)"
   ]
  },
  {
   "cell_type": "code",
   "execution_count": 20,
   "id": "777a7719-1653-4de7-9576-4bd84457307b",
   "metadata": {
    "tags": []
   },
   "outputs": [],
   "source": [
    "dfM = muonSim.AddFiles()"
   ]
  },
  {
   "cell_type": "code",
   "execution_count": 31,
   "id": "8ae879d8-29b3-489f-98e2-87d49b6a2e09",
   "metadata": {
    "tags": []
   },
   "outputs": [
    {
     "data": {
      "text/plain": [
       "array([    38,    121,    142, ..., 399928, 399984, 399987], dtype=uint64)"
      ]
     },
     "execution_count": 31,
     "metadata": {},
     "output_type": "execute_result"
    }
   ],
   "source": [
    "dfM['UniversalChainNumber'].unique()"
   ]
  },
  {
   "cell_type": "code",
   "execution_count": 34,
   "id": "a087db39-aee4-453a-801c-b55c7601716d",
   "metadata": {
    "tags": []
   },
   "outputs": [
    {
     "data": {
      "text/html": [
       "<div>\n",
       "<style scoped>\n",
       "    .dataframe tbody tr th:only-of-type {\n",
       "        vertical-align: middle;\n",
       "    }\n",
       "\n",
       "    .dataframe tbody tr th {\n",
       "        vertical-align: top;\n",
       "    }\n",
       "\n",
       "    .dataframe thead th {\n",
       "        text-align: right;\n",
       "    }\n",
       "</style>\n",
       "<table border=\"1\" class=\"dataframe\">\n",
       "  <thead>\n",
       "    <tr style=\"text-align: right;\">\n",
       "      <th></th>\n",
       "      <th>Channel</th>\n",
       "      <th>DAQChannel</th>\n",
       "      <th>ChainNumber</th>\n",
       "      <th>UniversalChainNumber</th>\n",
       "      <th>DepositedEnergy</th>\n",
       "      <th>EnergyDepositedInCopper</th>\n",
       "      <th>ParticleName</th>\n",
       "      <th>DaughterName</th>\n",
       "      <th>ParticlePositionX</th>\n",
       "      <th>ParticlePositionY</th>\n",
       "      <th>ParticlePositionZ</th>\n",
       "      <th>ParticleDirectionX</th>\n",
       "      <th>ParticleDirectionY</th>\n",
       "      <th>ParticleDirectionZ</th>\n",
       "      <th>ParticleInputEnergy</th>\n",
       "    </tr>\n",
       "  </thead>\n",
       "  <tbody>\n",
       "    <tr>\n",
       "      <th>12</th>\n",
       "      <td>11</td>\n",
       "      <td>250</td>\n",
       "      <td>142</td>\n",
       "      <td>142</td>\n",
       "      <td>0.508586</td>\n",
       "      <td>1.57364</td>\n",
       "      <td>mu-</td>\n",
       "      <td>Pb206</td>\n",
       "      <td>2097.466615</td>\n",
       "      <td>3368.466084</td>\n",
       "      <td>1595.850302</td>\n",
       "      <td>-0.414629</td>\n",
       "      <td>-0.764084</td>\n",
       "      <td>-0.494225</td>\n",
       "      <td>975722.20344</td>\n",
       "    </tr>\n",
       "    <tr>\n",
       "      <th>13</th>\n",
       "      <td>52</td>\n",
       "      <td>274</td>\n",
       "      <td>142</td>\n",
       "      <td>142</td>\n",
       "      <td>0.145902</td>\n",
       "      <td>1.57364</td>\n",
       "      <td>mu-</td>\n",
       "      <td>Pb206</td>\n",
       "      <td>2097.466615</td>\n",
       "      <td>3368.466084</td>\n",
       "      <td>1595.850302</td>\n",
       "      <td>-0.414629</td>\n",
       "      <td>-0.764084</td>\n",
       "      <td>-0.494225</td>\n",
       "      <td>975722.20344</td>\n",
       "    </tr>\n",
       "    <tr>\n",
       "      <th>14</th>\n",
       "      <td>55</td>\n",
       "      <td>300</td>\n",
       "      <td>142</td>\n",
       "      <td>142</td>\n",
       "      <td>0.041369</td>\n",
       "      <td>1.57364</td>\n",
       "      <td>mu-</td>\n",
       "      <td>Pb206</td>\n",
       "      <td>2097.466615</td>\n",
       "      <td>3368.466084</td>\n",
       "      <td>1595.850302</td>\n",
       "      <td>-0.414629</td>\n",
       "      <td>-0.764084</td>\n",
       "      <td>-0.494225</td>\n",
       "      <td>975722.20344</td>\n",
       "    </tr>\n",
       "    <tr>\n",
       "      <th>15</th>\n",
       "      <td>105</td>\n",
       "      <td>781</td>\n",
       "      <td>142</td>\n",
       "      <td>142</td>\n",
       "      <td>0.631908</td>\n",
       "      <td>1.57364</td>\n",
       "      <td>mu-</td>\n",
       "      <td>Pb206</td>\n",
       "      <td>2097.466615</td>\n",
       "      <td>3368.466084</td>\n",
       "      <td>1595.850302</td>\n",
       "      <td>-0.414629</td>\n",
       "      <td>-0.764084</td>\n",
       "      <td>-0.494225</td>\n",
       "      <td>975722.20344</td>\n",
       "    </tr>\n",
       "    <tr>\n",
       "      <th>16</th>\n",
       "      <td>159</td>\n",
       "      <td>352</td>\n",
       "      <td>142</td>\n",
       "      <td>142</td>\n",
       "      <td>0.239955</td>\n",
       "      <td>1.57364</td>\n",
       "      <td>mu-</td>\n",
       "      <td>Pb206</td>\n",
       "      <td>2097.466615</td>\n",
       "      <td>3368.466084</td>\n",
       "      <td>1595.850302</td>\n",
       "      <td>-0.414629</td>\n",
       "      <td>-0.764084</td>\n",
       "      <td>-0.494225</td>\n",
       "      <td>975722.20344</td>\n",
       "    </tr>\n",
       "    <tr>\n",
       "      <th>17</th>\n",
       "      <td>162</td>\n",
       "      <td>314</td>\n",
       "      <td>142</td>\n",
       "      <td>142</td>\n",
       "      <td>0.225938</td>\n",
       "      <td>1.57364</td>\n",
       "      <td>mu-</td>\n",
       "      <td>Pb206</td>\n",
       "      <td>2097.466615</td>\n",
       "      <td>3368.466084</td>\n",
       "      <td>1595.850302</td>\n",
       "      <td>-0.414629</td>\n",
       "      <td>-0.764084</td>\n",
       "      <td>-0.494225</td>\n",
       "      <td>975722.20344</td>\n",
       "    </tr>\n",
       "    <tr>\n",
       "      <th>18</th>\n",
       "      <td>171</td>\n",
       "      <td>355</td>\n",
       "      <td>142</td>\n",
       "      <td>142</td>\n",
       "      <td>0.510999</td>\n",
       "      <td>1.57364</td>\n",
       "      <td>mu-</td>\n",
       "      <td>Pb206</td>\n",
       "      <td>2097.466615</td>\n",
       "      <td>3368.466084</td>\n",
       "      <td>1595.850302</td>\n",
       "      <td>-0.414629</td>\n",
       "      <td>-0.764084</td>\n",
       "      <td>-0.494225</td>\n",
       "      <td>975722.20344</td>\n",
       "    </tr>\n",
       "    <tr>\n",
       "      <th>19</th>\n",
       "      <td>172</td>\n",
       "      <td>330</td>\n",
       "      <td>142</td>\n",
       "      <td>142</td>\n",
       "      <td>0.152461</td>\n",
       "      <td>1.57364</td>\n",
       "      <td>mu-</td>\n",
       "      <td>Pb206</td>\n",
       "      <td>2097.466615</td>\n",
       "      <td>3368.466084</td>\n",
       "      <td>1595.850302</td>\n",
       "      <td>-0.414629</td>\n",
       "      <td>-0.764084</td>\n",
       "      <td>-0.494225</td>\n",
       "      <td>975722.20344</td>\n",
       "    </tr>\n",
       "    <tr>\n",
       "      <th>20</th>\n",
       "      <td>211</td>\n",
       "      <td>586</td>\n",
       "      <td>142</td>\n",
       "      <td>142</td>\n",
       "      <td>0.128297</td>\n",
       "      <td>1.57364</td>\n",
       "      <td>mu-</td>\n",
       "      <td>Pb206</td>\n",
       "      <td>2097.466615</td>\n",
       "      <td>3368.466084</td>\n",
       "      <td>1595.850302</td>\n",
       "      <td>-0.414629</td>\n",
       "      <td>-0.764084</td>\n",
       "      <td>-0.494225</td>\n",
       "      <td>975722.20344</td>\n",
       "    </tr>\n",
       "    <tr>\n",
       "      <th>21</th>\n",
       "      <td>369</td>\n",
       "      <td>80</td>\n",
       "      <td>142</td>\n",
       "      <td>142</td>\n",
       "      <td>0.150850</td>\n",
       "      <td>1.57364</td>\n",
       "      <td>mu-</td>\n",
       "      <td>Pb206</td>\n",
       "      <td>2097.466615</td>\n",
       "      <td>3368.466084</td>\n",
       "      <td>1595.850302</td>\n",
       "      <td>-0.414629</td>\n",
       "      <td>-0.764084</td>\n",
       "      <td>-0.494225</td>\n",
       "      <td>975722.20344</td>\n",
       "    </tr>\n",
       "    <tr>\n",
       "      <th>22</th>\n",
       "      <td>376</td>\n",
       "      <td>69</td>\n",
       "      <td>142</td>\n",
       "      <td>142</td>\n",
       "      <td>0.046425</td>\n",
       "      <td>1.57364</td>\n",
       "      <td>mu-</td>\n",
       "      <td>Pb206</td>\n",
       "      <td>2097.466615</td>\n",
       "      <td>3368.466084</td>\n",
       "      <td>1595.850302</td>\n",
       "      <td>-0.414629</td>\n",
       "      <td>-0.764084</td>\n",
       "      <td>-0.494225</td>\n",
       "      <td>975722.20344</td>\n",
       "    </tr>\n",
       "    <tr>\n",
       "      <th>23</th>\n",
       "      <td>442</td>\n",
       "      <td>917</td>\n",
       "      <td>142</td>\n",
       "      <td>142</td>\n",
       "      <td>0.007076</td>\n",
       "      <td>1.57364</td>\n",
       "      <td>mu-</td>\n",
       "      <td>Pb206</td>\n",
       "      <td>2097.466615</td>\n",
       "      <td>3368.466084</td>\n",
       "      <td>1595.850302</td>\n",
       "      <td>-0.414629</td>\n",
       "      <td>-0.764084</td>\n",
       "      <td>-0.494225</td>\n",
       "      <td>975722.20344</td>\n",
       "    </tr>\n",
       "    <tr>\n",
       "      <th>24</th>\n",
       "      <td>448</td>\n",
       "      <td>932</td>\n",
       "      <td>142</td>\n",
       "      <td>142</td>\n",
       "      <td>0.007388</td>\n",
       "      <td>1.57364</td>\n",
       "      <td>mu-</td>\n",
       "      <td>Pb206</td>\n",
       "      <td>2097.466615</td>\n",
       "      <td>3368.466084</td>\n",
       "      <td>1595.850302</td>\n",
       "      <td>-0.414629</td>\n",
       "      <td>-0.764084</td>\n",
       "      <td>-0.494225</td>\n",
       "      <td>975722.20344</td>\n",
       "    </tr>\n",
       "    <tr>\n",
       "      <th>25</th>\n",
       "      <td>471</td>\n",
       "      <td>404</td>\n",
       "      <td>142</td>\n",
       "      <td>142</td>\n",
       "      <td>0.578345</td>\n",
       "      <td>1.57364</td>\n",
       "      <td>mu-</td>\n",
       "      <td>Pb206</td>\n",
       "      <td>2097.466615</td>\n",
       "      <td>3368.466084</td>\n",
       "      <td>1595.850302</td>\n",
       "      <td>-0.414629</td>\n",
       "      <td>-0.764084</td>\n",
       "      <td>-0.494225</td>\n",
       "      <td>975722.20344</td>\n",
       "    </tr>\n",
       "    <tr>\n",
       "      <th>26</th>\n",
       "      <td>475</td>\n",
       "      <td>405</td>\n",
       "      <td>142</td>\n",
       "      <td>142</td>\n",
       "      <td>1.224489</td>\n",
       "      <td>1.57364</td>\n",
       "      <td>mu-</td>\n",
       "      <td>Pb206</td>\n",
       "      <td>2097.466615</td>\n",
       "      <td>3368.466084</td>\n",
       "      <td>1595.850302</td>\n",
       "      <td>-0.414629</td>\n",
       "      <td>-0.764084</td>\n",
       "      <td>-0.494225</td>\n",
       "      <td>975722.20344</td>\n",
       "    </tr>\n",
       "    <tr>\n",
       "      <th>27</th>\n",
       "      <td>574</td>\n",
       "      <td>417</td>\n",
       "      <td>142</td>\n",
       "      <td>142</td>\n",
       "      <td>0.455946</td>\n",
       "      <td>1.57364</td>\n",
       "      <td>mu-</td>\n",
       "      <td>Pb206</td>\n",
       "      <td>2097.466615</td>\n",
       "      <td>3368.466084</td>\n",
       "      <td>1595.850302</td>\n",
       "      <td>-0.414629</td>\n",
       "      <td>-0.764084</td>\n",
       "      <td>-0.494225</td>\n",
       "      <td>975722.20344</td>\n",
       "    </tr>\n",
       "    <tr>\n",
       "      <th>28</th>\n",
       "      <td>678</td>\n",
       "      <td>105</td>\n",
       "      <td>142</td>\n",
       "      <td>142</td>\n",
       "      <td>0.249434</td>\n",
       "      <td>1.57364</td>\n",
       "      <td>mu-</td>\n",
       "      <td>Pb206</td>\n",
       "      <td>2097.466615</td>\n",
       "      <td>3368.466084</td>\n",
       "      <td>1595.850302</td>\n",
       "      <td>-0.414629</td>\n",
       "      <td>-0.764084</td>\n",
       "      <td>-0.494225</td>\n",
       "      <td>975722.20344</td>\n",
       "    </tr>\n",
       "    <tr>\n",
       "      <th>29</th>\n",
       "      <td>737</td>\n",
       "      <td>185</td>\n",
       "      <td>142</td>\n",
       "      <td>142</td>\n",
       "      <td>0.428089</td>\n",
       "      <td>1.57364</td>\n",
       "      <td>mu-</td>\n",
       "      <td>Pb206</td>\n",
       "      <td>2097.466615</td>\n",
       "      <td>3368.466084</td>\n",
       "      <td>1595.850302</td>\n",
       "      <td>-0.414629</td>\n",
       "      <td>-0.764084</td>\n",
       "      <td>-0.494225</td>\n",
       "      <td>975722.20344</td>\n",
       "    </tr>\n",
       "    <tr>\n",
       "      <th>30</th>\n",
       "      <td>739</td>\n",
       "      <td>198</td>\n",
       "      <td>142</td>\n",
       "      <td>142</td>\n",
       "      <td>0.003674</td>\n",
       "      <td>1.57364</td>\n",
       "      <td>mu-</td>\n",
       "      <td>Pb206</td>\n",
       "      <td>2097.466615</td>\n",
       "      <td>3368.466084</td>\n",
       "      <td>1595.850302</td>\n",
       "      <td>-0.414629</td>\n",
       "      <td>-0.764084</td>\n",
       "      <td>-0.494225</td>\n",
       "      <td>975722.20344</td>\n",
       "    </tr>\n",
       "    <tr>\n",
       "      <th>31</th>\n",
       "      <td>745</td>\n",
       "      <td>187</td>\n",
       "      <td>142</td>\n",
       "      <td>142</td>\n",
       "      <td>0.265727</td>\n",
       "      <td>1.57364</td>\n",
       "      <td>mu-</td>\n",
       "      <td>Pb206</td>\n",
       "      <td>2097.466615</td>\n",
       "      <td>3368.466084</td>\n",
       "      <td>1595.850302</td>\n",
       "      <td>-0.414629</td>\n",
       "      <td>-0.764084</td>\n",
       "      <td>-0.494225</td>\n",
       "      <td>975722.20344</td>\n",
       "    </tr>\n",
       "  </tbody>\n",
       "</table>\n",
       "</div>"
      ],
      "text/plain": [
       "    Channel  DAQChannel  ChainNumber  UniversalChainNumber  DepositedEnergy  \\\n",
       "12       11         250          142                   142         0.508586   \n",
       "13       52         274          142                   142         0.145902   \n",
       "14       55         300          142                   142         0.041369   \n",
       "15      105         781          142                   142         0.631908   \n",
       "16      159         352          142                   142         0.239955   \n",
       "17      162         314          142                   142         0.225938   \n",
       "18      171         355          142                   142         0.510999   \n",
       "19      172         330          142                   142         0.152461   \n",
       "20      211         586          142                   142         0.128297   \n",
       "21      369          80          142                   142         0.150850   \n",
       "22      376          69          142                   142         0.046425   \n",
       "23      442         917          142                   142         0.007076   \n",
       "24      448         932          142                   142         0.007388   \n",
       "25      471         404          142                   142         0.578345   \n",
       "26      475         405          142                   142         1.224489   \n",
       "27      574         417          142                   142         0.455946   \n",
       "28      678         105          142                   142         0.249434   \n",
       "29      737         185          142                   142         0.428089   \n",
       "30      739         198          142                   142         0.003674   \n",
       "31      745         187          142                   142         0.265727   \n",
       "\n",
       "    EnergyDepositedInCopper ParticleName DaughterName  ParticlePositionX  \\\n",
       "12                  1.57364          mu-        Pb206        2097.466615   \n",
       "13                  1.57364          mu-        Pb206        2097.466615   \n",
       "14                  1.57364          mu-        Pb206        2097.466615   \n",
       "15                  1.57364          mu-        Pb206        2097.466615   \n",
       "16                  1.57364          mu-        Pb206        2097.466615   \n",
       "17                  1.57364          mu-        Pb206        2097.466615   \n",
       "18                  1.57364          mu-        Pb206        2097.466615   \n",
       "19                  1.57364          mu-        Pb206        2097.466615   \n",
       "20                  1.57364          mu-        Pb206        2097.466615   \n",
       "21                  1.57364          mu-        Pb206        2097.466615   \n",
       "22                  1.57364          mu-        Pb206        2097.466615   \n",
       "23                  1.57364          mu-        Pb206        2097.466615   \n",
       "24                  1.57364          mu-        Pb206        2097.466615   \n",
       "25                  1.57364          mu-        Pb206        2097.466615   \n",
       "26                  1.57364          mu-        Pb206        2097.466615   \n",
       "27                  1.57364          mu-        Pb206        2097.466615   \n",
       "28                  1.57364          mu-        Pb206        2097.466615   \n",
       "29                  1.57364          mu-        Pb206        2097.466615   \n",
       "30                  1.57364          mu-        Pb206        2097.466615   \n",
       "31                  1.57364          mu-        Pb206        2097.466615   \n",
       "\n",
       "    ParticlePositionY  ParticlePositionZ  ParticleDirectionX  \\\n",
       "12        3368.466084        1595.850302           -0.414629   \n",
       "13        3368.466084        1595.850302           -0.414629   \n",
       "14        3368.466084        1595.850302           -0.414629   \n",
       "15        3368.466084        1595.850302           -0.414629   \n",
       "16        3368.466084        1595.850302           -0.414629   \n",
       "17        3368.466084        1595.850302           -0.414629   \n",
       "18        3368.466084        1595.850302           -0.414629   \n",
       "19        3368.466084        1595.850302           -0.414629   \n",
       "20        3368.466084        1595.850302           -0.414629   \n",
       "21        3368.466084        1595.850302           -0.414629   \n",
       "22        3368.466084        1595.850302           -0.414629   \n",
       "23        3368.466084        1595.850302           -0.414629   \n",
       "24        3368.466084        1595.850302           -0.414629   \n",
       "25        3368.466084        1595.850302           -0.414629   \n",
       "26        3368.466084        1595.850302           -0.414629   \n",
       "27        3368.466084        1595.850302           -0.414629   \n",
       "28        3368.466084        1595.850302           -0.414629   \n",
       "29        3368.466084        1595.850302           -0.414629   \n",
       "30        3368.466084        1595.850302           -0.414629   \n",
       "31        3368.466084        1595.850302           -0.414629   \n",
       "\n",
       "    ParticleDirectionY  ParticleDirectionZ  ParticleInputEnergy  \n",
       "12           -0.764084           -0.494225         975722.20344  \n",
       "13           -0.764084           -0.494225         975722.20344  \n",
       "14           -0.764084           -0.494225         975722.20344  \n",
       "15           -0.764084           -0.494225         975722.20344  \n",
       "16           -0.764084           -0.494225         975722.20344  \n",
       "17           -0.764084           -0.494225         975722.20344  \n",
       "18           -0.764084           -0.494225         975722.20344  \n",
       "19           -0.764084           -0.494225         975722.20344  \n",
       "20           -0.764084           -0.494225         975722.20344  \n",
       "21           -0.764084           -0.494225         975722.20344  \n",
       "22           -0.764084           -0.494225         975722.20344  \n",
       "23           -0.764084           -0.494225         975722.20344  \n",
       "24           -0.764084           -0.494225         975722.20344  \n",
       "25           -0.764084           -0.494225         975722.20344  \n",
       "26           -0.764084           -0.494225         975722.20344  \n",
       "27           -0.764084           -0.494225         975722.20344  \n",
       "28           -0.764084           -0.494225         975722.20344  \n",
       "29           -0.764084           -0.494225         975722.20344  \n",
       "30           -0.764084           -0.494225         975722.20344  \n",
       "31           -0.764084           -0.494225         975722.20344  "
      ]
     },
     "execution_count": 34,
     "metadata": {},
     "output_type": "execute_result"
    }
   ],
   "source": [
    "dfM.query('ChainNumber==142', engine='python')"
   ]
  },
  {
   "cell_type": "code",
   "execution_count": 33,
   "id": "33b7c6bd-b488-4768-8a8a-dadcf03a4c5c",
   "metadata": {
    "tags": []
   },
   "outputs": [
    {
     "data": {
      "text/plain": [
       "6.002855941948485"
      ]
     },
     "execution_count": 33,
     "metadata": {},
     "output_type": "execute_result"
    }
   ],
   "source": [
    "dfM.query('ChainNumber==142', engine='python')['DepositedEnergy'].sum()"
   ]
  },
  {
   "cell_type": "code",
   "execution_count": null,
   "id": "97641908-0a78-413e-b857-bc75940ce32f",
   "metadata": {},
   "outputs": [],
   "source": []
  }
 ],
 "metadata": {
  "kernelspec": {
   "display_name": "pyR",
   "language": "python",
   "name": "pyr"
  },
  "language_info": {
   "codemirror_mode": {
    "name": "ipython",
    "version": 3
   },
   "file_extension": ".py",
   "mimetype": "text/x-python",
   "name": "python",
   "nbconvert_exporter": "python",
   "pygments_lexer": "ipython3",
   "version": "3.9.15"
  }
 },
 "nbformat": 4,
 "nbformat_minor": 5
}
