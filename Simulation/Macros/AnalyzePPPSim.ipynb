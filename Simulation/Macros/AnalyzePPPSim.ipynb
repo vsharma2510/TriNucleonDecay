{
 "cells": [
  {
   "cell_type": "code",
   "execution_count": 1,
   "id": "23a1103d-9c6c-45da-9a90-72b8352f1b1d",
   "metadata": {},
   "outputs": [],
   "source": [
    "%matplotlib inline\n",
    "import uproot\n",
    "import hist\n",
    "import numpy as np\n",
    "import matplotlib.pyplot as plt\n",
    "import pandas as pd\n",
    "import awkward as ak\n",
    "import plotly.express as px"
   ]
  },
  {
   "cell_type": "code",
   "execution_count": 7,
   "id": "aee4c402-caaf-4fbe-96ef-2f863f683437",
   "metadata": {},
   "outputs": [
    {
     "name": "stdout",
     "output_type": "stream",
     "text": [
      "name                 | typename                 | interpretation                \n",
      "---------------------+--------------------------+-------------------------------\n",
      "Channel              | int32_t                  | AsDtype('>i4')\n",
      "ChainNumber          | uint64_t                 | AsDtype('>u8')\n",
      "Time                 | double                   | AsDtype('>f8')\n",
      "DepositedEnergy      | double                   | AsDtype('>f8')\n",
      "DepositedEnergyBy... | double[12]               | AsDtype(\"('>f8', (12,))\")\n",
      "EnergyDepositedIn... | double                   | AsDtype('>f8')\n",
      "EnergyDepositedIn... | double                   | AsDtype('>f8')\n",
      "EnergyDepositedInNTD | double                   | AsDtype('>f8')\n",
      "ParticleName         | std::string              | AsStrings()\n",
      "DaughterName         | std::string              | AsStrings()\n",
      "ParticleInputEnergy  | double                   | AsDtype('>f8')\n",
      "ParticlePositionX    | double                   | AsDtype('>f8')\n",
      "ParticlePositionY    | double                   | AsDtype('>f8')\n",
      "ParticlePositionZ    | double                   | AsDtype('>f8')\n",
      "ParticleDirectionX   | double                   | AsDtype('>f8')\n",
      "ParticleDirectionY   | double                   | AsDtype('>f8')\n",
      "ParticleDirectionZ   | double                   | AsDtype('>f8')\n"
     ]
    }
   ],
   "source": [
    "pionSim = uproot.open(\"/pscratch/sd/v/vsharma2/TriNucleonDecay/TripleProton_MC/TestPionSim2000MevTotal.root\")\n",
    "pionTree = pionSim['qtree']\n",
    "pionTree.show()"
   ]
  },
  {
   "cell_type": "code",
   "execution_count": 12,
   "id": "849f66dd-755c-4ad0-8870-987fcbe629b6",
   "metadata": {},
   "outputs": [],
   "source": [
    "pionTable = pionTree.arrays([\"ChainNumber\", \"DepositedEnergy\", \"DepositedEnergyByParticle\", \"ParticleName\", \"DaughterName\", \"ParticleInputEnergy\"], library='pd')"
   ]
  },
  {
   "cell_type": "code",
   "execution_count": 13,
   "id": "1e27dd31-4639-4505-8ae0-60c278bcccb7",
   "metadata": {},
   "outputs": [
    {
     "data": {
      "text/html": [
       "<div>\n",
       "<style scoped>\n",
       "    .dataframe tbody tr th:only-of-type {\n",
       "        vertical-align: middle;\n",
       "    }\n",
       "\n",
       "    .dataframe tbody tr th {\n",
       "        vertical-align: top;\n",
       "    }\n",
       "\n",
       "    .dataframe thead th {\n",
       "        text-align: right;\n",
       "    }\n",
       "</style>\n",
       "<table border=\"1\" class=\"dataframe\">\n",
       "  <thead>\n",
       "    <tr style=\"text-align: right;\">\n",
       "      <th></th>\n",
       "      <th>ChainNumber</th>\n",
       "      <th>DepositedEnergy</th>\n",
       "      <th>DepositedEnergyByParticle[0]</th>\n",
       "      <th>DepositedEnergyByParticle[1]</th>\n",
       "      <th>DepositedEnergyByParticle[2]</th>\n",
       "      <th>DepositedEnergyByParticle[3]</th>\n",
       "      <th>DepositedEnergyByParticle[4]</th>\n",
       "      <th>DepositedEnergyByParticle[5]</th>\n",
       "      <th>DepositedEnergyByParticle[6]</th>\n",
       "      <th>DepositedEnergyByParticle[7]</th>\n",
       "      <th>DepositedEnergyByParticle[8]</th>\n",
       "      <th>DepositedEnergyByParticle[9]</th>\n",
       "      <th>DepositedEnergyByParticle[10]</th>\n",
       "      <th>DepositedEnergyByParticle[11]</th>\n",
       "      <th>ParticleName</th>\n",
       "      <th>DaughterName</th>\n",
       "      <th>ParticleInputEnergy</th>\n",
       "    </tr>\n",
       "  </thead>\n",
       "  <tbody>\n",
       "    <tr>\n",
       "      <th>0</th>\n",
       "      <td>1</td>\n",
       "      <td>0.555929</td>\n",
       "      <td>0.555929</td>\n",
       "      <td>0.0</td>\n",
       "      <td>0.0</td>\n",
       "      <td>0.0</td>\n",
       "      <td>0.0</td>\n",
       "      <td>0.0</td>\n",
       "      <td>0.0</td>\n",
       "      <td>0.0</td>\n",
       "      <td>0.0</td>\n",
       "      <td>0.0</td>\n",
       "      <td>0.0</td>\n",
       "      <td>0.0</td>\n",
       "      <td>pi+</td>\n",
       "      <td>Cu63</td>\n",
       "      <td>1530.145347</td>\n",
       "    </tr>\n",
       "    <tr>\n",
       "      <th>1</th>\n",
       "      <td>1</td>\n",
       "      <td>1.006297</td>\n",
       "      <td>1.006297</td>\n",
       "      <td>0.0</td>\n",
       "      <td>0.0</td>\n",
       "      <td>0.0</td>\n",
       "      <td>0.0</td>\n",
       "      <td>0.0</td>\n",
       "      <td>0.0</td>\n",
       "      <td>0.0</td>\n",
       "      <td>0.0</td>\n",
       "      <td>0.0</td>\n",
       "      <td>0.0</td>\n",
       "      <td>0.0</td>\n",
       "      <td>pi+</td>\n",
       "      <td>Cu63</td>\n",
       "      <td>1530.145347</td>\n",
       "    </tr>\n",
       "    <tr>\n",
       "      <th>2</th>\n",
       "      <td>1</td>\n",
       "      <td>1.025465</td>\n",
       "      <td>1.025465</td>\n",
       "      <td>0.0</td>\n",
       "      <td>0.0</td>\n",
       "      <td>0.0</td>\n",
       "      <td>0.0</td>\n",
       "      <td>0.0</td>\n",
       "      <td>0.0</td>\n",
       "      <td>0.0</td>\n",
       "      <td>0.0</td>\n",
       "      <td>0.0</td>\n",
       "      <td>0.0</td>\n",
       "      <td>0.0</td>\n",
       "      <td>pi+</td>\n",
       "      <td>Cu63</td>\n",
       "      <td>1530.145347</td>\n",
       "    </tr>\n",
       "    <tr>\n",
       "      <th>3</th>\n",
       "      <td>1</td>\n",
       "      <td>3.619859</td>\n",
       "      <td>3.619859</td>\n",
       "      <td>0.0</td>\n",
       "      <td>0.0</td>\n",
       "      <td>0.0</td>\n",
       "      <td>0.0</td>\n",
       "      <td>0.0</td>\n",
       "      <td>0.0</td>\n",
       "      <td>0.0</td>\n",
       "      <td>0.0</td>\n",
       "      <td>0.0</td>\n",
       "      <td>0.0</td>\n",
       "      <td>0.0</td>\n",
       "      <td>pi+</td>\n",
       "      <td>Cu63</td>\n",
       "      <td>1530.145347</td>\n",
       "    </tr>\n",
       "    <tr>\n",
       "      <th>4</th>\n",
       "      <td>1</td>\n",
       "      <td>11.527567</td>\n",
       "      <td>11.527567</td>\n",
       "      <td>0.0</td>\n",
       "      <td>0.0</td>\n",
       "      <td>0.0</td>\n",
       "      <td>0.0</td>\n",
       "      <td>0.0</td>\n",
       "      <td>0.0</td>\n",
       "      <td>0.0</td>\n",
       "      <td>0.0</td>\n",
       "      <td>0.0</td>\n",
       "      <td>0.0</td>\n",
       "      <td>0.0</td>\n",
       "      <td>pi+</td>\n",
       "      <td>Cu63</td>\n",
       "      <td>1530.145347</td>\n",
       "    </tr>\n",
       "  </tbody>\n",
       "</table>\n",
       "</div>"
      ],
      "text/plain": [
       "   ChainNumber  DepositedEnergy  DepositedEnergyByParticle[0]  \\\n",
       "0            1         0.555929                      0.555929   \n",
       "1            1         1.006297                      1.006297   \n",
       "2            1         1.025465                      1.025465   \n",
       "3            1         3.619859                      3.619859   \n",
       "4            1        11.527567                     11.527567   \n",
       "\n",
       "   DepositedEnergyByParticle[1]  DepositedEnergyByParticle[2]  \\\n",
       "0                           0.0                           0.0   \n",
       "1                           0.0                           0.0   \n",
       "2                           0.0                           0.0   \n",
       "3                           0.0                           0.0   \n",
       "4                           0.0                           0.0   \n",
       "\n",
       "   DepositedEnergyByParticle[3]  DepositedEnergyByParticle[4]  \\\n",
       "0                           0.0                           0.0   \n",
       "1                           0.0                           0.0   \n",
       "2                           0.0                           0.0   \n",
       "3                           0.0                           0.0   \n",
       "4                           0.0                           0.0   \n",
       "\n",
       "   DepositedEnergyByParticle[5]  DepositedEnergyByParticle[6]  \\\n",
       "0                           0.0                           0.0   \n",
       "1                           0.0                           0.0   \n",
       "2                           0.0                           0.0   \n",
       "3                           0.0                           0.0   \n",
       "4                           0.0                           0.0   \n",
       "\n",
       "   DepositedEnergyByParticle[7]  DepositedEnergyByParticle[8]  \\\n",
       "0                           0.0                           0.0   \n",
       "1                           0.0                           0.0   \n",
       "2                           0.0                           0.0   \n",
       "3                           0.0                           0.0   \n",
       "4                           0.0                           0.0   \n",
       "\n",
       "   DepositedEnergyByParticle[9]  DepositedEnergyByParticle[10]  \\\n",
       "0                           0.0                            0.0   \n",
       "1                           0.0                            0.0   \n",
       "2                           0.0                            0.0   \n",
       "3                           0.0                            0.0   \n",
       "4                           0.0                            0.0   \n",
       "\n",
       "   DepositedEnergyByParticle[11] ParticleName DaughterName  \\\n",
       "0                            0.0          pi+         Cu63   \n",
       "1                            0.0          pi+         Cu63   \n",
       "2                            0.0          pi+         Cu63   \n",
       "3                            0.0          pi+         Cu63   \n",
       "4                            0.0          pi+         Cu63   \n",
       "\n",
       "   ParticleInputEnergy  \n",
       "0          1530.145347  \n",
       "1          1530.145347  \n",
       "2          1530.145347  \n",
       "3          1530.145347  \n",
       "4          1530.145347  "
      ]
     },
     "execution_count": 13,
     "metadata": {},
     "output_type": "execute_result"
    }
   ],
   "source": [
    "pionTable.head()"
   ]
  },
  {
   "cell_type": "code",
   "execution_count": 18,
   "id": "3e719b17-f8d8-4c27-8b8d-59253bb46033",
   "metadata": {},
   "outputs": [],
   "source": [
    "#df.rename(columns={\"A\": \"a\", \"B\": \"c\"})\n",
    "pionTablev2 = pionTable.rename(columns={\"DepositedEnergyByParticle[0]\":\"Gamma\", \"DepositedEnergyByParticle[1]\":\"electron\", \"DepositedEnergyByParticle[2]\":\"positron\",\n",
    "                          \"DepositedEnergyByParticle[3]\":\"proton\", \"DepositedEnergyByParticle[4]\":\"anti-proton\", \n",
    "                          \"DepositedEnergyByParticle[5]\":\"neutron\", \"DepositedEnergyByParticle[6]\":\"anti-neutron\",\n",
    "                          \"DepositedEnergyByParticle[7]\":\"alpha\", \"DepositedEnergyByParticle[8]\":\"ion\",\n",
    "                          \"DepositedEnergyByParticle[9]\":\"mu-\", \"DepositedEnergyByParticle[10]\":\"mu+\",\n",
    "                          \"DepositedEnergyByParticle[11]\":\"other\"})"
   ]
  },
  {
   "cell_type": "code",
   "execution_count": 19,
   "id": "c284f58b-d8db-4f54-9f65-a6685885de6c",
   "metadata": {},
   "outputs": [
    {
     "data": {
      "text/plain": [
       "array(['Cu63', 'Pb208', 'Pb207', 'Te128', 'Te130', 'Te126', 'Te125',\n",
       "       'Pb206', 'O16', 'Cu65', 'Te124', 'Te123', 'Te122', 'Ni62', 'Pb204',\n",
       "       'N15', 'C12', 'F19', 'Li7', 'C13', 'B11', 'Be10', 'O17', 'Ni63',\n",
       "       'Fe54', 'Ni64', 'Ni60', 'Fe56', 'Tl208', 'C11', 'N14', 'Te120'],\n",
       "      dtype=object)"
      ]
     },
     "execution_count": 19,
     "metadata": {},
     "output_type": "execute_result"
    }
   ],
   "source": [
    "pionTablev2['DaughterName'].unique()"
   ]
  },
  {
   "cell_type": "code",
   "execution_count": 20,
   "id": "dacf228c-d38f-47db-b33e-b60900c83505",
   "metadata": {},
   "outputs": [
    {
     "data": {
      "text/plain": [
       "ChainNumber                    80\n",
       "DepositedEnergy        858.234524\n",
       "Gamma                   625.51007\n",
       "electron               229.848905\n",
       "positron                30.400722\n",
       "proton                 448.618756\n",
       "anti-proton                   0.0\n",
       "neutron                       0.0\n",
       "anti-neutron                  0.0\n",
       "alpha                  117.191858\n",
       "ion                    316.876692\n",
       "mu-                     32.732514\n",
       "mu+                     37.209007\n",
       "other                  154.496563\n",
       "ParticleName                  pi+\n",
       "DaughterName                Tl208\n",
       "ParticleInputEnergy    1999.98939\n",
       "dtype: object"
      ]
     },
     "execution_count": 20,
     "metadata": {},
     "output_type": "execute_result"
    }
   ],
   "source": [
    "pionTablev2.max()"
   ]
  },
  {
   "cell_type": "code",
   "execution_count": 21,
   "id": "bb66d724-4152-4d95-92b3-a5468cc7f4f7",
   "metadata": {},
   "outputs": [
    {
     "data": {
      "text/plain": [
       "ChainNumber                      1\n",
       "DepositedEnergy                0.0\n",
       "Gamma                          0.0\n",
       "electron                       0.0\n",
       "positron                       0.0\n",
       "proton                         0.0\n",
       "anti-proton                    0.0\n",
       "neutron                        0.0\n",
       "anti-neutron                   0.0\n",
       "alpha                          0.0\n",
       "ion                            0.0\n",
       "mu-                            0.0\n",
       "mu+                            0.0\n",
       "other                          0.0\n",
       "ParticleName                   pi+\n",
       "DaughterName                   B11\n",
       "ParticleInputEnergy    1000.165403\n",
       "dtype: object"
      ]
     },
     "execution_count": 21,
     "metadata": {},
     "output_type": "execute_result"
    }
   ],
   "source": [
    "pionTablev2.min()"
   ]
  },
  {
   "cell_type": "code",
   "execution_count": null,
   "id": "0b1bd0d6-469d-44c0-bf5a-62e633b9754e",
   "metadata": {},
   "outputs": [],
   "source": []
  }
 ],
 "metadata": {
  "kernelspec": {
   "display_name": "pyR",
   "language": "python",
   "name": "pyr"
  },
  "language_info": {
   "codemirror_mode": {
    "name": "ipython",
    "version": 3
   },
   "file_extension": ".py",
   "mimetype": "text/x-python",
   "name": "python",
   "nbconvert_exporter": "python",
   "pygments_lexer": "ipython3",
   "version": "3.9.15"
  }
 },
 "nbformat": 4,
 "nbformat_minor": 5
}
