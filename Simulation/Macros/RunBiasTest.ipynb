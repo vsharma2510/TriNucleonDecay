{
 "cells": [
  {
   "cell_type": "markdown",
   "id": "4598e601-481b-4480-9141-2ac7d99d3cc5",
   "metadata": {
    "tags": []
   },
   "source": [
    "### Needs AnalyzeCUORESim.py in the same directory as this notebook\n",
    "### /global/homes/v/vsharma2/TriProtonDecay/Simulation/Macros/AnalyzeCUORESim.py"
   ]
  },
  {
   "cell_type": "code",
   "execution_count": 1,
   "id": "e300ad69-9a51-40c3-935d-ca0cd22606cb",
   "metadata": {
    "tags": []
   },
   "outputs": [],
   "source": [
    "%matplotlib inline\n",
    "import uproot\n",
    "import hist\n",
    "import numpy as np\n",
    "import matplotlib.pyplot as plt\n",
    "import pandas as pd\n",
    "import awkward as ak\n",
    "import glob\n",
    "import AnalyzeCUORESim as an\n",
    "from IPython.display import display\n",
    "from tqdm import tqdm\n",
    "import pickle\n",
    "import h5py"
   ]
  },
  {
   "cell_type": "markdown",
   "id": "e3c5aff8-eedf-4aa2-a2ec-dc2e00562955",
   "metadata": {},
   "source": [
    "### Preparing ppp decay MC"
   ]
  },
  {
   "cell_type": "code",
   "execution_count": null,
   "id": "b6bbf25a-dbff-414a-a80f-ceff324f9624",
   "metadata": {},
   "outputs": [],
   "source": [
    "pppSim = an.AresOutput('/pscratch/sd/v/vsharma2/TriNucleonDecay/pppDecayMC/pppDecaySimsAres_LIV/ppp_sim_ares_*.root')\n",
    "pppSimNP = pppSim.ConvertAresToNP()"
   ]
  },
  {
   "cell_type": "code",
   "execution_count": null,
   "id": "8e77a1c8-022a-4460-b8b5-13ffee6f99b5",
   "metadata": {},
   "outputs": [],
   "source": [
    "print('Shape of ppp MC numpy array -- ' + str(pppSimNp.shape))\n",
    "print('Number of ppp MC events -- ' + str(pppSimNp.shape[0])"
   ]
  },
  {
   "cell_type": "markdown",
   "id": "8e09d661-d13a-4e93-a135-3915abb459ee",
   "metadata": {},
   "source": [
    "### Preparing muon MC"
   ]
  },
  {
   "cell_type": "code",
   "execution_count": null,
   "id": "64b42f69-32e0-40bb-8da1-ca8e30e5ab8a",
   "metadata": {},
   "outputs": [],
   "source": [
    "muonSim = an.AresOutput('/pscratch/sd/v/vsharma2/TriNucleonDecay/muonMC/Muons_ares_*.root')\n",
    "muonSimNP = pppSim.ConvertAresToNP()"
   ]
  },
  {
   "cell_type": "code",
   "execution_count": null,
   "id": "f6ae09f4-fe62-4b0d-9d2c-499ee450ec77",
   "metadata": {},
   "outputs": [],
   "source": [
    "print('Shape of muon MC numpy array -- ' + str(muonSimNp.shape))\n",
    "print('Number of muon MC events -- ' + str(muonSimNp.shape[0])"
   ]
  },
  {
   "cell_type": "markdown",
   "id": "2ef6b896-f925-479e-ac12-c51587f26eea",
   "metadata": {},
   "source": [
    "### Choose rate of signal events here"
   ]
  },
  {
   "cell_type": "code",
   "execution_count": null,
   "id": "06dc501f-674e-4706-9fc0-37b04d37b714",
   "metadata": {},
   "outputs": [],
   "source": [
    "signalEventRate = 0.0 #Number of ppp events to inserted in the muon MC array"
   ]
  },
  {
   "cell_type": "code",
   "execution_count": null,
   "id": "c1079901-19f2-43e2-91b9-a53bda1ad142",
   "metadata": {},
   "outputs": [],
   "source": [
    "biasArray = pppSim.BiasTest(pppSimNP, muonSimNP, signalEventRate)"
   ]
  },
  {
   "cell_type": "code",
   "execution_count": null,
   "id": "25a91478-8081-4e06-8459-4a54db27e232",
   "metadata": {},
   "outputs": [],
   "source": [
    "np.save('/pscratch/sd/v/vsharma2/TriNucleonDecay/BiasTest/biasTest.npy')"
   ]
  }
 ],
 "metadata": {
  "kernelspec": {
   "display_name": "pyR",
   "language": "python",
   "name": "pyr"
  },
  "language_info": {
   "codemirror_mode": {
    "name": "ipython",
    "version": 3
   },
   "file_extension": ".py",
   "mimetype": "text/x-python",
   "name": "python",
   "nbconvert_exporter": "python",
   "pygments_lexer": "ipython3",
   "version": "3.9.15"
  }
 },
 "nbformat": 4,
 "nbformat_minor": 5
}
