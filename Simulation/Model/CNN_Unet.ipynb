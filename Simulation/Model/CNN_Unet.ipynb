{
 "cells": [
  {
   "cell_type": "code",
   "execution_count": 3,
   "id": "9be99454-815f-4456-a9a4-003a2e28b0ef",
   "metadata": {
    "tags": []
   },
   "outputs": [],
   "source": [
    "import tensorflow as tf\n",
    "from tensorflow import keras\n",
    "from keras import layers\n",
    "import matplotlib.pyplot as plt\n",
    "import numpy as np"
   ]
  },
  {
   "cell_type": "code",
   "execution_count": 4,
   "id": "caeb6c5c-33d7-4fa3-870f-fcbe4be97293",
   "metadata": {},
   "outputs": [],
   "source": [
    "def cal_upsampling(depth, rows, cols, strides, kernel_size, padding, output_padding):\n",
    "    \n",
    "    print(f'strides -- {strides}')\n",
    "    print(f'kernel -- {kernel_size}')\n",
    "    print(f'padding -- {padding}')\n",
    "    new_depth = ((depth - 1) * strides + kernel_size[0] - 2 * padding +\n",
    "    output_padding)\n",
    "    new_rows = ((rows - 1) * strides + kernel_size[1] - 2 * padding +\n",
    "    output_padding)\n",
    "    new_cols = ((cols - 1) * strides + kernel_size[1] - 2 * padding +\n",
    "    output_padding)\n",
    "    \n",
    "    return new_depth, new_rows, new_cols"
   ]
  },
  {
   "cell_type": "code",
   "execution_count": 5,
   "id": "bf4d2088-2bbe-4922-bec6-c9e0f3f491ce",
   "metadata": {
    "tags": []
   },
   "outputs": [],
   "source": [
    "def doubleConvBlock(x, numFilters):\n",
    "\n",
    "    # Conv3D then ReLU activation\n",
    "    x = layers.Conv3D(numFilters, 3, padding = \"same\", activation = \"relu\", kernel_initializer = \"he_normal\")(x)\n",
    "    # Conv3D then ReLU activation\n",
    "    x = layers.Conv3D(numFilters, 3, padding = \"same\", activation = \"relu\", kernel_initializer = \"he_normal\")(x)\n",
    "\n",
    "    return x"
   ]
  },
  {
   "cell_type": "code",
   "execution_count": 6,
   "id": "37b113ad-9d43-4f79-ae4a-1d89bb3bf469",
   "metadata": {
    "tags": []
   },
   "outputs": [],
   "source": [
    "def downsampleBlock(x, numFilters):\n",
    "    f = doubleConvBlock(x, numFilters)\n",
    "    p = layers.MaxPool3D(2)(f)\n",
    "    p = layers.Dropout(0.3)(p)\n",
    "\n",
    "    return f, p"
   ]
  },
  {
   "cell_type": "code",
   "execution_count": 7,
   "id": "ef05eb25-346d-44ef-9a50-885644db1a55",
   "metadata": {
    "tags": []
   },
   "outputs": [],
   "source": [
    "def upsampleBlock(x, convFeatures, numFilters, kernel_size):\n",
    "    # upsample\n",
    "    x = layers.Conv3DTranspose(numFilters, kernel_size, 2)(x)\n",
    "    # concatenate \n",
    "    x = layers.concatenate([x, convFeatures])\n",
    "    # dropout\n",
    "    x = layers.Dropout(0.1)(x)\n",
    "    # Conv2D twice with ReLU activation\n",
    "    x = doubleConvBlock(x, numFilters)\n",
    "\n",
    "    return x"
   ]
  },
  {
   "cell_type": "code",
   "execution_count": 2,
   "id": "11abcbc8-15e0-468b-a16b-ee101a47bcb5",
   "metadata": {},
   "outputs": [],
   "source": [
    "def Unet(width=10, height=10, depth=13):\n",
    "\n",
    "    # inputs\n",
    "    inputs = keras.Input((width, height, depth, 1))\n",
    "\n",
    "    # encoder: contracting path - downsample\n",
    "    # 1 - downsample\n",
    "    f1, p1 = downsampleBlock(inputs, 32)\n",
    "    #print(f'Shape of f1 -- {f1.shape} & Shape of p1 -- {p1.shape}')\n",
    "    \n",
    "    # 2 - downsample\n",
    "    f2, p2 = downsampleBlock(p1, 64)\n",
    "    #print(f'Shape of f2 -- {f2.shape} & Shape of p2 -- {p2.shape}')\n",
    "    \n",
    "    # 3 - bottleneck\n",
    "    bottleneck = doubleConvBlock(p2, 128)\n",
    "    #print(f'Shape of bottleneck {bottleneck.shape}')\n",
    "    \n",
    "    # decoder: expanding path - upsample\n",
    "    # 4 - upsample\n",
    "    u1 = upsampleBlock(bottleneck, f2, 64, (3,3,2))\n",
    "    \n",
    "    # 5 - upsample\n",
    "    #print(f'Shape of u6 -- {u6.shape} & Shape of p2 -- {f1.shape}')\n",
    "    u2 = upsampleBlock(u1, f1, 32, (2,2,3))\n",
    "    \n",
    "    # 6 - 1x1 convolutions\n",
    "    o1 = layers.Conv3D(16, 1, padding='same', activation='relu')(u2)\n",
    "    o2 = layers.Conv3D(4, 1, padding='same', activation='relu')(o1)\n",
    "    \n",
    "    # 7 - layer for voxel segmentation\n",
    "    segmentOutputs = layers.Conv3D(1, 1, padding='same', activation='sigmoid')(o2)\n",
    "    \n",
    "    # dense network for classfication\n",
    "    f3 = layers.Dense(units=64, activation=\"relu\")(f2)\n",
    "    f4 = layers.Dropout(0.1)(f3)\n",
    "    f5 = layers.Dense(units=32, activation=\"relu\")(f4)\n",
    "    classOutputs = layers.Dense(units=1, activation=\"sigmoid\")(f5)\n",
    "\n",
    "    #outputs = layers.Dense(units=1, activation=\"sigmoid\")(f4)\n",
    "\n",
    "    # unet model with Keras Functional API\n",
    "    unet_model = tf.keras.Model(inputs, [classOutputs, segmentOutputs], name=\"U-Net\")\n",
    "    #class_model = tf.keras.Model(inputs, classOutputs, name=\"U-Net-class\")\n",
    "\n",
    "    return unet_model"
   ]
  },
  {
   "cell_type": "code",
   "execution_count": 15,
   "id": "5c748b99-0e55-4751-8487-751c92c57f83",
   "metadata": {
    "tags": []
   },
   "outputs": [
    {
     "name": "stdout",
     "output_type": "stream",
     "text": [
      "Shape of f1 -- (None, 10, 10, 13, 32) & Shape of p1 -- (None, 5, 5, 6, 32)\n",
      "Shape of f2 -- (None, 5, 5, 6, 64) & Shape of p2 -- (None, 2, 2, 3, 64)\n",
      "Shape of bottleneck (None, 2, 2, 3, 128)\n",
      "Shape of u6 -- (None, 5, 5, 6, 64) & Shape of p2 -- (None, 10, 10, 13, 32)\n",
      "Model: \"U-Net-segment\"\n",
      "__________________________________________________________________________________________________\n",
      " Layer (type)                   Output Shape         Param #     Connected to                     \n",
      "==================================================================================================\n",
      " input_4 (InputLayer)           [(None, 10, 10, 13,  0           []                               \n",
      "                                 1)]                                                              \n",
      "                                                                                                  \n",
      " conv3d_42 (Conv3D)             (None, 10, 10, 13,   896         ['input_4[0][0]']                \n",
      "                                32)                                                               \n",
      "                                                                                                  \n",
      " conv3d_43 (Conv3D)             (None, 10, 10, 13,   27680       ['conv3d_42[0][0]']              \n",
      "                                32)                                                               \n",
      "                                                                                                  \n",
      " max_pooling3d_6 (MaxPooling3D)  (None, 5, 5, 6, 32)  0          ['conv3d_43[0][0]']              \n",
      "                                                                                                  \n",
      " dropout_15 (Dropout)           (None, 5, 5, 6, 32)  0           ['max_pooling3d_6[0][0]']        \n",
      "                                                                                                  \n",
      " conv3d_44 (Conv3D)             (None, 5, 5, 6, 64)  55360       ['dropout_15[0][0]']             \n",
      "                                                                                                  \n",
      " conv3d_45 (Conv3D)             (None, 5, 5, 6, 64)  110656      ['conv3d_44[0][0]']              \n",
      "                                                                                                  \n",
      " max_pooling3d_7 (MaxPooling3D)  (None, 2, 2, 3, 64)  0          ['conv3d_45[0][0]']              \n",
      "                                                                                                  \n",
      " dropout_16 (Dropout)           (None, 2, 2, 3, 64)  0           ['max_pooling3d_7[0][0]']        \n",
      "                                                                                                  \n",
      " conv3d_46 (Conv3D)             (None, 2, 2, 3, 128  221312      ['dropout_16[0][0]']             \n",
      "                                )                                                                 \n",
      "                                                                                                  \n",
      " conv3d_47 (Conv3D)             (None, 2, 2, 3, 128  442496      ['conv3d_46[0][0]']              \n",
      "                                )                                                                 \n",
      "                                                                                                  \n",
      " conv3d_transpose_6 (Conv3DTran  (None, 5, 5, 6, 64)  147520     ['conv3d_47[0][0]']              \n",
      " spose)                                                                                           \n",
      "                                                                                                  \n",
      " concatenate_6 (Concatenate)    (None, 5, 5, 6, 128  0           ['conv3d_transpose_6[0][0]',     \n",
      "                                )                                 'conv3d_45[0][0]']              \n",
      "                                                                                                  \n",
      " dropout_17 (Dropout)           (None, 5, 5, 6, 128  0           ['concatenate_6[0][0]']          \n",
      "                                )                                                                 \n",
      "                                                                                                  \n",
      " conv3d_48 (Conv3D)             (None, 5, 5, 6, 64)  221248      ['dropout_17[0][0]']             \n",
      "                                                                                                  \n",
      " conv3d_49 (Conv3D)             (None, 5, 5, 6, 64)  110656      ['conv3d_48[0][0]']              \n",
      "                                                                                                  \n",
      " conv3d_transpose_7 (Conv3DTran  (None, 10, 10, 13,   24608      ['conv3d_49[0][0]']              \n",
      " spose)                         32)                                                               \n",
      "                                                                                                  \n",
      " concatenate_7 (Concatenate)    (None, 10, 10, 13,   0           ['conv3d_transpose_7[0][0]',     \n",
      "                                64)                               'conv3d_43[0][0]']              \n",
      "                                                                                                  \n",
      " dropout_18 (Dropout)           (None, 10, 10, 13,   0           ['concatenate_7[0][0]']          \n",
      "                                64)                                                               \n",
      "                                                                                                  \n",
      " conv3d_50 (Conv3D)             (None, 10, 10, 13,   55328       ['dropout_18[0][0]']             \n",
      "                                32)                                                               \n",
      "                                                                                                  \n",
      " conv3d_51 (Conv3D)             (None, 10, 10, 13,   27680       ['conv3d_50[0][0]']              \n",
      "                                32)                                                               \n",
      "                                                                                                  \n",
      " dense_9 (Dense)                (None, 5, 5, 6, 64)  4160        ['conv3d_45[0][0]']              \n",
      "                                                                                                  \n",
      " conv3d_52 (Conv3D)             (None, 10, 10, 13,   528         ['conv3d_51[0][0]']              \n",
      "                                16)                                                               \n",
      "                                                                                                  \n",
      " dropout_19 (Dropout)           (None, 5, 5, 6, 64)  0           ['dense_9[0][0]']                \n",
      "                                                                                                  \n",
      " conv3d_53 (Conv3D)             (None, 10, 10, 13,   68          ['conv3d_52[0][0]']              \n",
      "                                4)                                                                \n",
      "                                                                                                  \n",
      " dense_10 (Dense)               (None, 5, 5, 6, 1)   65          ['dropout_19[0][0]']             \n",
      "                                                                                                  \n",
      " conv3d_54 (Conv3D)             (None, 10, 10, 13,   5           ['conv3d_53[0][0]']              \n",
      "                                1)                                                                \n",
      "                                                                                                  \n",
      "==================================================================================================\n",
      "Total params: 1,450,266\n",
      "Trainable params: 1,450,266\n",
      "Non-trainable params: 0\n",
      "__________________________________________________________________________________________________\n"
     ]
    }
   ],
   "source": [
    "model = Unet(width=10, height=10, depth=13)\n",
    "model.summary()"
   ]
  },
  {
   "cell_type": "markdown",
   "id": "fc070ed2-bd06-4226-8ddb-57cc450fbc8a",
   "metadata": {},
   "source": [
    "total = 1300\n",
    "weight_0 = (1/1299) * (total/n)\n",
    "weight_1 = (1/1) * (total/n)\n",
    "class_weight = {0: weight_for_0, 1: weight_for_1}"
   ]
  },
  {
   "cell_type": "markdown",
   "id": "71ff169d-14b7-477c-9dc6-167bdd9cf616",
   "metadata": {},
   "source": [
    "weighted_history = weighted_model.fit(\n",
    "    train_features,\n",
    "    train_labels,\n",
    "    batch_size=BATCH_SIZE,\n",
    "    epochs=EPOCHS,\n",
    "    callbacks=[early_stopping],\n",
    "    validation_data=(val_features, val_labels),\n",
    "    class_weight=class_weight)"
   ]
  },
  {
   "cell_type": "markdown",
   "id": "ee9813ec-fc38-4b55-8f15-f081f30f6c84",
   "metadata": {},
   "source": [
    "loss function only over non zero voxels?"
   ]
  },
  {
   "cell_type": "code",
   "execution_count": null,
   "id": "1d26b76a-fd1f-4a5a-9227-a5aaac9c3d24",
   "metadata": {},
   "outputs": [],
   "source": []
  }
 ],
 "metadata": {
  "kernelspec": {
   "display_name": "tensorflow-2.9.0",
   "language": "python",
   "name": "tensorflow-2.9.0"
  },
  "language_info": {
   "codemirror_mode": {
    "name": "ipython",
    "version": 3
   },
   "file_extension": ".py",
   "mimetype": "text/x-python",
   "name": "python",
   "nbconvert_exporter": "python",
   "pygments_lexer": "ipython3",
   "version": "3.9.15"
  }
 },
 "nbformat": 4,
 "nbformat_minor": 5
}
